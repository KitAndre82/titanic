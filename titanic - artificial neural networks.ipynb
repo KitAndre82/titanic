{
 "cells": [
  {
   "cell_type": "code",
   "execution_count": 2,
   "id": "8a91a5df",
   "metadata": {},
   "outputs": [],
   "source": [
    "import pandas as pd\n",
    "import numpy as np\n",
    "import seaborn as sns"
   ]
  },
  {
   "cell_type": "code",
   "execution_count": 3,
   "id": "a52e940a",
   "metadata": {},
   "outputs": [],
   "source": [
    "df = pd.read_csv('/Users/andrew/Downloads/titanic.csv')"
   ]
  },
  {
   "cell_type": "code",
   "execution_count": 4,
   "id": "a53903fe",
   "metadata": {},
   "outputs": [
    {
     "data": {
      "text/html": [
       "<div>\n",
       "<style scoped>\n",
       "    .dataframe tbody tr th:only-of-type {\n",
       "        vertical-align: middle;\n",
       "    }\n",
       "\n",
       "    .dataframe tbody tr th {\n",
       "        vertical-align: top;\n",
       "    }\n",
       "\n",
       "    .dataframe thead th {\n",
       "        text-align: right;\n",
       "    }\n",
       "</style>\n",
       "<table border=\"1\" class=\"dataframe\">\n",
       "  <thead>\n",
       "    <tr style=\"text-align: right;\">\n",
       "      <th></th>\n",
       "      <th>PassengerId</th>\n",
       "      <th>Survived</th>\n",
       "      <th>Pclass</th>\n",
       "      <th>Name</th>\n",
       "      <th>Sex</th>\n",
       "      <th>Age</th>\n",
       "      <th>SibSp</th>\n",
       "      <th>Parch</th>\n",
       "      <th>Ticket</th>\n",
       "      <th>Fare</th>\n",
       "      <th>Cabin</th>\n",
       "      <th>Embarked</th>\n",
       "    </tr>\n",
       "  </thead>\n",
       "  <tbody>\n",
       "    <tr>\n",
       "      <th>0</th>\n",
       "      <td>1</td>\n",
       "      <td>0</td>\n",
       "      <td>3</td>\n",
       "      <td>Braund, Mr. Owen Harris</td>\n",
       "      <td>male</td>\n",
       "      <td>22.0</td>\n",
       "      <td>1</td>\n",
       "      <td>0</td>\n",
       "      <td>A/5 21171</td>\n",
       "      <td>7.2500</td>\n",
       "      <td>NaN</td>\n",
       "      <td>S</td>\n",
       "    </tr>\n",
       "    <tr>\n",
       "      <th>1</th>\n",
       "      <td>2</td>\n",
       "      <td>1</td>\n",
       "      <td>1</td>\n",
       "      <td>Cumings, Mrs. John Bradley (Florence Briggs Th...</td>\n",
       "      <td>female</td>\n",
       "      <td>38.0</td>\n",
       "      <td>1</td>\n",
       "      <td>0</td>\n",
       "      <td>PC 17599</td>\n",
       "      <td>71.2833</td>\n",
       "      <td>C85</td>\n",
       "      <td>C</td>\n",
       "    </tr>\n",
       "  </tbody>\n",
       "</table>\n",
       "</div>"
      ],
      "text/plain": [
       "   PassengerId  Survived  Pclass  \\\n",
       "0            1         0       3   \n",
       "1            2         1       1   \n",
       "\n",
       "                                                Name     Sex   Age  SibSp  \\\n",
       "0                            Braund, Mr. Owen Harris    male  22.0      1   \n",
       "1  Cumings, Mrs. John Bradley (Florence Briggs Th...  female  38.0      1   \n",
       "\n",
       "   Parch     Ticket     Fare Cabin Embarked  \n",
       "0      0  A/5 21171   7.2500   NaN        S  \n",
       "1      0   PC 17599  71.2833   C85        C  "
      ]
     },
     "execution_count": 4,
     "metadata": {},
     "output_type": "execute_result"
    }
   ],
   "source": [
    "df.head(2)"
   ]
  },
  {
   "cell_type": "code",
   "execution_count": 6,
   "id": "693e139a-054d-4a08-9204-7077dfad06b1",
   "metadata": {},
   "outputs": [
    {
     "data": {
      "text/plain": [
       "342"
      ]
     },
     "execution_count": 6,
     "metadata": {},
     "output_type": "execute_result"
    }
   ],
   "source": [
    "df['Survived'].sum()"
   ]
  },
  {
   "cell_type": "code",
   "execution_count": 29,
   "id": "f2b9a009",
   "metadata": {},
   "outputs": [],
   "source": [
    "#df['Sex'] = df['Sex'].map({'male':0,'female':1})\n",
    "\n",
    "#df['Embarked'] = df['Embarked'].map({'S':0,'C':1,'Q':2})\n",
    "\n",
    "dum = pd.get_dummies(df['Embarked'], prefix = 'emb',drop_first=True)"
   ]
  },
  {
   "cell_type": "code",
   "execution_count": 30,
   "id": "b694110b",
   "metadata": {},
   "outputs": [],
   "source": [
    "df = df.drop(columns=['Embarked']).join(dum)"
   ]
  },
  {
   "cell_type": "code",
   "execution_count": 31,
   "id": "2eb14af1",
   "metadata": {},
   "outputs": [
    {
     "data": {
      "text/html": [
       "<div>\n",
       "<style scoped>\n",
       "    .dataframe tbody tr th:only-of-type {\n",
       "        vertical-align: middle;\n",
       "    }\n",
       "\n",
       "    .dataframe tbody tr th {\n",
       "        vertical-align: top;\n",
       "    }\n",
       "\n",
       "    .dataframe thead th {\n",
       "        text-align: right;\n",
       "    }\n",
       "</style>\n",
       "<table border=\"1\" class=\"dataframe\">\n",
       "  <thead>\n",
       "    <tr style=\"text-align: right;\">\n",
       "      <th></th>\n",
       "      <th>PassengerId</th>\n",
       "      <th>Survived</th>\n",
       "      <th>Pclass</th>\n",
       "      <th>Name</th>\n",
       "      <th>Sex</th>\n",
       "      <th>Age</th>\n",
       "      <th>SibSp</th>\n",
       "      <th>Parch</th>\n",
       "      <th>Ticket</th>\n",
       "      <th>Fare</th>\n",
       "      <th>Cabin</th>\n",
       "      <th>emb_Q</th>\n",
       "      <th>emb_S</th>\n",
       "    </tr>\n",
       "  </thead>\n",
       "  <tbody>\n",
       "    <tr>\n",
       "      <th>0</th>\n",
       "      <td>1</td>\n",
       "      <td>0</td>\n",
       "      <td>3</td>\n",
       "      <td>Braund, Mr. Owen Harris</td>\n",
       "      <td>male</td>\n",
       "      <td>22.0</td>\n",
       "      <td>1</td>\n",
       "      <td>0</td>\n",
       "      <td>A/5 21171</td>\n",
       "      <td>7.2500</td>\n",
       "      <td>NaN</td>\n",
       "      <td>False</td>\n",
       "      <td>True</td>\n",
       "    </tr>\n",
       "    <tr>\n",
       "      <th>1</th>\n",
       "      <td>2</td>\n",
       "      <td>1</td>\n",
       "      <td>1</td>\n",
       "      <td>Cumings, Mrs. John Bradley (Florence Briggs Th...</td>\n",
       "      <td>female</td>\n",
       "      <td>38.0</td>\n",
       "      <td>1</td>\n",
       "      <td>0</td>\n",
       "      <td>PC 17599</td>\n",
       "      <td>71.2833</td>\n",
       "      <td>C85</td>\n",
       "      <td>False</td>\n",
       "      <td>False</td>\n",
       "    </tr>\n",
       "  </tbody>\n",
       "</table>\n",
       "</div>"
      ],
      "text/plain": [
       "   PassengerId  Survived  Pclass  \\\n",
       "0            1         0       3   \n",
       "1            2         1       1   \n",
       "\n",
       "                                                Name     Sex   Age  SibSp  \\\n",
       "0                            Braund, Mr. Owen Harris    male  22.0      1   \n",
       "1  Cumings, Mrs. John Bradley (Florence Briggs Th...  female  38.0      1   \n",
       "\n",
       "   Parch     Ticket     Fare Cabin  emb_Q  emb_S  \n",
       "0      0  A/5 21171   7.2500   NaN  False   True  \n",
       "1      0   PC 17599  71.2833   C85  False  False  "
      ]
     },
     "execution_count": 31,
     "metadata": {},
     "output_type": "execute_result"
    }
   ],
   "source": [
    "df.head(2)"
   ]
  },
  {
   "cell_type": "code",
   "execution_count": 32,
   "id": "c1737f9b",
   "metadata": {},
   "outputs": [],
   "source": [
    "df.drop(columns=['Ticket','Cabin'],inplace=True)"
   ]
  },
  {
   "cell_type": "code",
   "execution_count": 33,
   "id": "b619f455",
   "metadata": {},
   "outputs": [
    {
     "data": {
      "text/html": [
       "<div>\n",
       "<style scoped>\n",
       "    .dataframe tbody tr th:only-of-type {\n",
       "        vertical-align: middle;\n",
       "    }\n",
       "\n",
       "    .dataframe tbody tr th {\n",
       "        vertical-align: top;\n",
       "    }\n",
       "\n",
       "    .dataframe thead th {\n",
       "        text-align: right;\n",
       "    }\n",
       "</style>\n",
       "<table border=\"1\" class=\"dataframe\">\n",
       "  <thead>\n",
       "    <tr style=\"text-align: right;\">\n",
       "      <th></th>\n",
       "      <th>PassengerId</th>\n",
       "      <th>Survived</th>\n",
       "      <th>Pclass</th>\n",
       "      <th>Name</th>\n",
       "      <th>Sex</th>\n",
       "      <th>Age</th>\n",
       "      <th>SibSp</th>\n",
       "      <th>Parch</th>\n",
       "      <th>Fare</th>\n",
       "      <th>emb_Q</th>\n",
       "      <th>emb_S</th>\n",
       "    </tr>\n",
       "  </thead>\n",
       "  <tbody>\n",
       "    <tr>\n",
       "      <th>0</th>\n",
       "      <td>1</td>\n",
       "      <td>0</td>\n",
       "      <td>3</td>\n",
       "      <td>Braund, Mr. Owen Harris</td>\n",
       "      <td>male</td>\n",
       "      <td>22.0</td>\n",
       "      <td>1</td>\n",
       "      <td>0</td>\n",
       "      <td>7.2500</td>\n",
       "      <td>False</td>\n",
       "      <td>True</td>\n",
       "    </tr>\n",
       "    <tr>\n",
       "      <th>1</th>\n",
       "      <td>2</td>\n",
       "      <td>1</td>\n",
       "      <td>1</td>\n",
       "      <td>Cumings, Mrs. John Bradley (Florence Briggs Th...</td>\n",
       "      <td>female</td>\n",
       "      <td>38.0</td>\n",
       "      <td>1</td>\n",
       "      <td>0</td>\n",
       "      <td>71.2833</td>\n",
       "      <td>False</td>\n",
       "      <td>False</td>\n",
       "    </tr>\n",
       "    <tr>\n",
       "      <th>2</th>\n",
       "      <td>3</td>\n",
       "      <td>1</td>\n",
       "      <td>3</td>\n",
       "      <td>Heikkinen, Miss. Laina</td>\n",
       "      <td>female</td>\n",
       "      <td>26.0</td>\n",
       "      <td>0</td>\n",
       "      <td>0</td>\n",
       "      <td>7.9250</td>\n",
       "      <td>False</td>\n",
       "      <td>True</td>\n",
       "    </tr>\n",
       "    <tr>\n",
       "      <th>3</th>\n",
       "      <td>4</td>\n",
       "      <td>1</td>\n",
       "      <td>1</td>\n",
       "      <td>Futrelle, Mrs. Jacques Heath (Lily May Peel)</td>\n",
       "      <td>female</td>\n",
       "      <td>35.0</td>\n",
       "      <td>1</td>\n",
       "      <td>0</td>\n",
       "      <td>53.1000</td>\n",
       "      <td>False</td>\n",
       "      <td>True</td>\n",
       "    </tr>\n",
       "    <tr>\n",
       "      <th>4</th>\n",
       "      <td>5</td>\n",
       "      <td>0</td>\n",
       "      <td>3</td>\n",
       "      <td>Allen, Mr. William Henry</td>\n",
       "      <td>male</td>\n",
       "      <td>35.0</td>\n",
       "      <td>0</td>\n",
       "      <td>0</td>\n",
       "      <td>8.0500</td>\n",
       "      <td>False</td>\n",
       "      <td>True</td>\n",
       "    </tr>\n",
       "  </tbody>\n",
       "</table>\n",
       "</div>"
      ],
      "text/plain": [
       "   PassengerId  Survived  Pclass  \\\n",
       "0            1         0       3   \n",
       "1            2         1       1   \n",
       "2            3         1       3   \n",
       "3            4         1       1   \n",
       "4            5         0       3   \n",
       "\n",
       "                                                Name     Sex   Age  SibSp  \\\n",
       "0                            Braund, Mr. Owen Harris    male  22.0      1   \n",
       "1  Cumings, Mrs. John Bradley (Florence Briggs Th...  female  38.0      1   \n",
       "2                             Heikkinen, Miss. Laina  female  26.0      0   \n",
       "3       Futrelle, Mrs. Jacques Heath (Lily May Peel)  female  35.0      1   \n",
       "4                           Allen, Mr. William Henry    male  35.0      0   \n",
       "\n",
       "   Parch     Fare  emb_Q  emb_S  \n",
       "0      0   7.2500  False   True  \n",
       "1      0  71.2833  False  False  \n",
       "2      0   7.9250  False   True  \n",
       "3      0  53.1000  False   True  \n",
       "4      0   8.0500  False   True  "
      ]
     },
     "execution_count": 33,
     "metadata": {},
     "output_type": "execute_result"
    }
   ],
   "source": [
    "df.head()"
   ]
  },
  {
   "cell_type": "code",
   "execution_count": 34,
   "id": "232afef6",
   "metadata": {},
   "outputs": [],
   "source": [
    "dum_g = pd.get_dummies(df['Sex'],prefix='gender',drop_first=True)"
   ]
  },
  {
   "cell_type": "code",
   "execution_count": 35,
   "id": "4a158e82",
   "metadata": {},
   "outputs": [
    {
     "data": {
      "text/html": [
       "<div>\n",
       "<style scoped>\n",
       "    .dataframe tbody tr th:only-of-type {\n",
       "        vertical-align: middle;\n",
       "    }\n",
       "\n",
       "    .dataframe tbody tr th {\n",
       "        vertical-align: top;\n",
       "    }\n",
       "\n",
       "    .dataframe thead th {\n",
       "        text-align: right;\n",
       "    }\n",
       "</style>\n",
       "<table border=\"1\" class=\"dataframe\">\n",
       "  <thead>\n",
       "    <tr style=\"text-align: right;\">\n",
       "      <th></th>\n",
       "      <th>gender_male</th>\n",
       "    </tr>\n",
       "  </thead>\n",
       "  <tbody>\n",
       "    <tr>\n",
       "      <th>0</th>\n",
       "      <td>True</td>\n",
       "    </tr>\n",
       "    <tr>\n",
       "      <th>1</th>\n",
       "      <td>False</td>\n",
       "    </tr>\n",
       "    <tr>\n",
       "      <th>2</th>\n",
       "      <td>False</td>\n",
       "    </tr>\n",
       "    <tr>\n",
       "      <th>3</th>\n",
       "      <td>False</td>\n",
       "    </tr>\n",
       "    <tr>\n",
       "      <th>4</th>\n",
       "      <td>True</td>\n",
       "    </tr>\n",
       "    <tr>\n",
       "      <th>...</th>\n",
       "      <td>...</td>\n",
       "    </tr>\n",
       "    <tr>\n",
       "      <th>886</th>\n",
       "      <td>True</td>\n",
       "    </tr>\n",
       "    <tr>\n",
       "      <th>887</th>\n",
       "      <td>False</td>\n",
       "    </tr>\n",
       "    <tr>\n",
       "      <th>888</th>\n",
       "      <td>False</td>\n",
       "    </tr>\n",
       "    <tr>\n",
       "      <th>889</th>\n",
       "      <td>True</td>\n",
       "    </tr>\n",
       "    <tr>\n",
       "      <th>890</th>\n",
       "      <td>True</td>\n",
       "    </tr>\n",
       "  </tbody>\n",
       "</table>\n",
       "<p>891 rows × 1 columns</p>\n",
       "</div>"
      ],
      "text/plain": [
       "     gender_male\n",
       "0           True\n",
       "1          False\n",
       "2          False\n",
       "3          False\n",
       "4           True\n",
       "..           ...\n",
       "886         True\n",
       "887        False\n",
       "888        False\n",
       "889         True\n",
       "890         True\n",
       "\n",
       "[891 rows x 1 columns]"
      ]
     },
     "execution_count": 35,
     "metadata": {},
     "output_type": "execute_result"
    }
   ],
   "source": [
    "dum_g"
   ]
  },
  {
   "cell_type": "code",
   "execution_count": 36,
   "id": "635a552f",
   "metadata": {},
   "outputs": [],
   "source": [
    "df = df.drop(columns=['Sex']).join(dum_g)"
   ]
  },
  {
   "cell_type": "code",
   "execution_count": 37,
   "id": "741b1098",
   "metadata": {},
   "outputs": [
    {
     "data": {
      "text/html": [
       "<div>\n",
       "<style scoped>\n",
       "    .dataframe tbody tr th:only-of-type {\n",
       "        vertical-align: middle;\n",
       "    }\n",
       "\n",
       "    .dataframe tbody tr th {\n",
       "        vertical-align: top;\n",
       "    }\n",
       "\n",
       "    .dataframe thead th {\n",
       "        text-align: right;\n",
       "    }\n",
       "</style>\n",
       "<table border=\"1\" class=\"dataframe\">\n",
       "  <thead>\n",
       "    <tr style=\"text-align: right;\">\n",
       "      <th></th>\n",
       "      <th>PassengerId</th>\n",
       "      <th>Survived</th>\n",
       "      <th>Pclass</th>\n",
       "      <th>Name</th>\n",
       "      <th>Age</th>\n",
       "      <th>SibSp</th>\n",
       "      <th>Parch</th>\n",
       "      <th>Fare</th>\n",
       "      <th>emb_Q</th>\n",
       "      <th>emb_S</th>\n",
       "      <th>gender_male</th>\n",
       "    </tr>\n",
       "  </thead>\n",
       "  <tbody>\n",
       "    <tr>\n",
       "      <th>0</th>\n",
       "      <td>1</td>\n",
       "      <td>0</td>\n",
       "      <td>3</td>\n",
       "      <td>Braund, Mr. Owen Harris</td>\n",
       "      <td>22.0</td>\n",
       "      <td>1</td>\n",
       "      <td>0</td>\n",
       "      <td>7.2500</td>\n",
       "      <td>False</td>\n",
       "      <td>True</td>\n",
       "      <td>True</td>\n",
       "    </tr>\n",
       "    <tr>\n",
       "      <th>1</th>\n",
       "      <td>2</td>\n",
       "      <td>1</td>\n",
       "      <td>1</td>\n",
       "      <td>Cumings, Mrs. John Bradley (Florence Briggs Th...</td>\n",
       "      <td>38.0</td>\n",
       "      <td>1</td>\n",
       "      <td>0</td>\n",
       "      <td>71.2833</td>\n",
       "      <td>False</td>\n",
       "      <td>False</td>\n",
       "      <td>False</td>\n",
       "    </tr>\n",
       "  </tbody>\n",
       "</table>\n",
       "</div>"
      ],
      "text/plain": [
       "   PassengerId  Survived  Pclass  \\\n",
       "0            1         0       3   \n",
       "1            2         1       1   \n",
       "\n",
       "                                                Name   Age  SibSp  Parch  \\\n",
       "0                            Braund, Mr. Owen Harris  22.0      1      0   \n",
       "1  Cumings, Mrs. John Bradley (Florence Briggs Th...  38.0      1      0   \n",
       "\n",
       "      Fare  emb_Q  emb_S  gender_male  \n",
       "0   7.2500  False   True         True  \n",
       "1  71.2833  False  False        False  "
      ]
     },
     "execution_count": 37,
     "metadata": {},
     "output_type": "execute_result"
    }
   ],
   "source": [
    "df.head(2)"
   ]
  },
  {
   "cell_type": "code",
   "execution_count": 41,
   "id": "ac1d97c3",
   "metadata": {},
   "outputs": [],
   "source": [
    "df.drop(columns=['Name'],inplace=True)"
   ]
  },
  {
   "cell_type": "code",
   "execution_count": 42,
   "id": "1595e8a2",
   "metadata": {},
   "outputs": [
    {
     "data": {
      "text/html": [
       "<div>\n",
       "<style scoped>\n",
       "    .dataframe tbody tr th:only-of-type {\n",
       "        vertical-align: middle;\n",
       "    }\n",
       "\n",
       "    .dataframe tbody tr th {\n",
       "        vertical-align: top;\n",
       "    }\n",
       "\n",
       "    .dataframe thead th {\n",
       "        text-align: right;\n",
       "    }\n",
       "</style>\n",
       "<table border=\"1\" class=\"dataframe\">\n",
       "  <thead>\n",
       "    <tr style=\"text-align: right;\">\n",
       "      <th></th>\n",
       "      <th>PassengerId</th>\n",
       "      <th>Survived</th>\n",
       "      <th>Pclass</th>\n",
       "      <th>Age</th>\n",
       "      <th>SibSp</th>\n",
       "      <th>Parch</th>\n",
       "      <th>Fare</th>\n",
       "      <th>emb_Q</th>\n",
       "      <th>emb_S</th>\n",
       "      <th>gender_male</th>\n",
       "    </tr>\n",
       "  </thead>\n",
       "  <tbody>\n",
       "    <tr>\n",
       "      <th>0</th>\n",
       "      <td>1</td>\n",
       "      <td>0</td>\n",
       "      <td>3</td>\n",
       "      <td>22.0</td>\n",
       "      <td>1</td>\n",
       "      <td>0</td>\n",
       "      <td>7.2500</td>\n",
       "      <td>False</td>\n",
       "      <td>True</td>\n",
       "      <td>True</td>\n",
       "    </tr>\n",
       "    <tr>\n",
       "      <th>1</th>\n",
       "      <td>2</td>\n",
       "      <td>1</td>\n",
       "      <td>1</td>\n",
       "      <td>38.0</td>\n",
       "      <td>1</td>\n",
       "      <td>0</td>\n",
       "      <td>71.2833</td>\n",
       "      <td>False</td>\n",
       "      <td>False</td>\n",
       "      <td>False</td>\n",
       "    </tr>\n",
       "  </tbody>\n",
       "</table>\n",
       "</div>"
      ],
      "text/plain": [
       "   PassengerId  Survived  Pclass   Age  SibSp  Parch     Fare  emb_Q  emb_S  \\\n",
       "0            1         0       3  22.0      1      0   7.2500  False   True   \n",
       "1            2         1       1  38.0      1      0  71.2833  False  False   \n",
       "\n",
       "   gender_male  \n",
       "0         True  \n",
       "1        False  "
      ]
     },
     "execution_count": 42,
     "metadata": {},
     "output_type": "execute_result"
    }
   ],
   "source": [
    "df.head(2)"
   ]
  },
  {
   "cell_type": "code",
   "execution_count": 44,
   "id": "43db49ea",
   "metadata": {},
   "outputs": [
    {
     "data": {
      "text/plain": [
       "PassengerId      0\n",
       "Survived         0\n",
       "Pclass           0\n",
       "Age            177\n",
       "SibSp            0\n",
       "Parch            0\n",
       "Fare             0\n",
       "emb_Q            0\n",
       "emb_S            0\n",
       "gender_male      0\n",
       "dtype: int64"
      ]
     },
     "execution_count": 44,
     "metadata": {},
     "output_type": "execute_result"
    }
   ],
   "source": [
    "df.isnull().sum()"
   ]
  },
  {
   "cell_type": "code",
   "execution_count": 43,
   "id": "acd16afa",
   "metadata": {},
   "outputs": [
    {
     "data": {
      "text/plain": [
       "PassengerId   -0.005007\n",
       "Survived       1.000000\n",
       "Pclass        -0.338481\n",
       "Age           -0.077221\n",
       "SibSp         -0.035322\n",
       "Parch          0.081629\n",
       "Fare           0.257307\n",
       "emb_Q          0.003650\n",
       "emb_S         -0.155660\n",
       "gender_male   -0.543351\n",
       "Name: Survived, dtype: float64"
      ]
     },
     "execution_count": 43,
     "metadata": {},
     "output_type": "execute_result"
    }
   ],
   "source": [
    "df.corr()['Survived']"
   ]
  },
  {
   "cell_type": "code",
   "execution_count": 139,
   "id": "eb3b9c6d",
   "metadata": {},
   "outputs": [
    {
     "data": {
      "text/plain": [
       "Pclass        -0.403858\n",
       "SibSp         -0.243452\n",
       "Parch         -0.175799\n",
       "emb_Q         -0.070315\n",
       "Survived      -0.050504\n",
       "emb_S         -0.000483\n",
       "PassengerId    0.035256\n",
       "gender_male    0.080464\n",
       "Fare           0.120886\n",
       "Name: Age, dtype: float64"
      ]
     },
     "execution_count": 139,
     "metadata": {},
     "output_type": "execute_result"
    }
   ],
   "source": [
    "df.corr()['Age'].sort_values().drop('Age')"
   ]
  },
  {
   "cell_type": "code",
   "execution_count": 142,
   "id": "11e156da",
   "metadata": {},
   "outputs": [
    {
     "data": {
      "text/plain": [
       "248"
      ]
     },
     "execution_count": 142,
     "metadata": {},
     "output_type": "execute_result"
    }
   ],
   "source": [
    "df['Fare'].nunique()"
   ]
  },
  {
   "cell_type": "code",
   "execution_count": 53,
   "id": "6567b970",
   "metadata": {},
   "outputs": [
    {
     "data": {
      "text/plain": [
       "<Axes: >"
      ]
     },
     "execution_count": 53,
     "metadata": {},
     "output_type": "execute_result"
    },
    {
     "data": {
      "image/png": "[encoded data removed]",
      "text/plain": [
       "<Figure size 640x480 with 1 Axes>"
      ]
     },
     "metadata": {},
     "output_type": "display_data"
    }
   ],
   "source": [
    "sns.boxplot(df['Age'])"
   ]
  },
  {
   "cell_type": "code",
   "execution_count": 48,
   "id": "4b3e5020",
   "metadata": {},
   "outputs": [
    {
     "data": {
      "text/plain": [
       "3"
      ]
     },
     "execution_count": 48,
     "metadata": {},
     "output_type": "execute_result"
    }
   ],
   "source": [
    "df['Pclass'].nunique()"
   ]
  },
  {
   "cell_type": "code",
   "execution_count": 52,
   "id": "d82d056b",
   "metadata": {},
   "outputs": [
    {
     "data": {
      "text/plain": [
       "Pclass\n",
       "1    216\n",
       "2    184\n",
       "3    491\n",
       "Name: PassengerId, dtype: int64"
      ]
     },
     "execution_count": 52,
     "metadata": {},
     "output_type": "execute_result"
    }
   ],
   "source": [
    "df.groupby('Pclass').count()['PassengerId']"
   ]
  },
  {
   "cell_type": "code",
   "execution_count": 58,
   "id": "69fef76f",
   "metadata": {},
   "outputs": [],
   "source": [
    "age_ = df.groupby('Pclass').mean()['Age']"
   ]
  },
  {
   "cell_type": "code",
   "execution_count": 59,
   "id": "98af0d4e",
   "metadata": {},
   "outputs": [
    {
     "data": {
      "text/plain": [
       "Pclass\n",
       "1    38.233441\n",
       "2    29.877630\n",
       "3    25.140620\n",
       "Name: Age, dtype: float64"
      ]
     },
     "execution_count": 59,
     "metadata": {},
     "output_type": "execute_result"
    }
   ],
   "source": [
    "age_"
   ]
  },
  {
   "cell_type": "code",
   "execution_count": 60,
   "id": "c971c141",
   "metadata": {},
   "outputs": [
    {
     "data": {
      "text/plain": [
       "38.233440860215055"
      ]
     },
     "execution_count": 60,
     "metadata": {},
     "output_type": "execute_result"
    }
   ],
   "source": [
    "age_[1]"
   ]
  },
  {
   "cell_type": "code",
   "execution_count": 50,
   "id": "7b71dc7a",
   "metadata": {},
   "outputs": [
    {
     "data": {
      "text/plain": [
       "29.69911764705882"
      ]
     },
     "execution_count": 50,
     "metadata": {},
     "output_type": "execute_result"
    }
   ],
   "source": [
    "df['Age'].mean()"
   ]
  },
  {
   "cell_type": "code",
   "execution_count": 68,
   "id": "af09e599",
   "metadata": {},
   "outputs": [],
   "source": [
    "def age_fill(df):\n",
    "    AGE = []\n",
    "    for i in range(0, len(df)):\n",
    "        if np.isnan(df['Age'][i]):\n",
    "            age = age_[df['Pclass'][i]]\n",
    "        else:\n",
    "            age = df['Age'][i]\n",
    "        AGE.append(age)\n",
    "    return AGE"
   ]
  },
  {
   "cell_type": "code",
   "execution_count": 71,
   "id": "a95da97e",
   "metadata": {},
   "outputs": [],
   "source": [
    "df['Age'] = age_fill(df)"
   ]
  },
  {
   "cell_type": "code",
   "execution_count": 72,
   "id": "c113bd19",
   "metadata": {},
   "outputs": [
    {
     "data": {
      "text/plain": [
       "PassengerId    0\n",
       "Survived       0\n",
       "Pclass         0\n",
       "Age            0\n",
       "SibSp          0\n",
       "Parch          0\n",
       "Fare           0\n",
       "emb_Q          0\n",
       "emb_S          0\n",
       "gender_male    0\n",
       "dtype: int64"
      ]
     },
     "execution_count": 72,
     "metadata": {},
     "output_type": "execute_result"
    }
   ],
   "source": [
    "df.isnull().sum()"
   ]
  },
  {
   "cell_type": "code",
   "execution_count": 118,
   "id": "a431bde1",
   "metadata": {},
   "outputs": [
    {
     "data": {
      "text/plain": [
       "<Axes: xlabel='Survived', ylabel='count'>"
      ]
     },
     "execution_count": 118,
     "metadata": {},
     "output_type": "execute_result"
    },
    {
     "data": {
      "image/png": "[encoded data removed]",
      "text/plain": [
       "<Figure size 640x480 with 1 Axes>"
      ]
     },
     "metadata": {},
     "output_type": "display_data"
    }
   ],
   "source": [
    "sns.countplot(x='Survived',data=df)"
   ]
  },
  {
   "cell_type": "code",
   "execution_count": 119,
   "id": "6164b197",
   "metadata": {},
   "outputs": [
    {
     "data": {
      "text/plain": [
       "891"
      ]
     },
     "execution_count": 119,
     "metadata": {},
     "output_type": "execute_result"
    }
   ],
   "source": [
    "len(df)"
   ]
  },
  {
   "cell_type": "code",
   "execution_count": 129,
   "id": "43e4caae",
   "metadata": {},
   "outputs": [
    {
     "name": "stderr",
     "output_type": "stream",
     "text": [
      "/var/folders/4z/s5yytqj535948_tn28lrcsr40000gn/T/ipykernel_57491/1153648910.py:1: FutureWarning: Calling int on a single element Series is deprecated and will raise a TypeError in the future. Use int(ser.iloc[0]) instead\n",
      "  survived_0 = int(df[df['Survived']==0].groupby('Survived').count()['PassengerId'])\n"
     ]
    }
   ],
   "source": [
    "survived_0 = int(df[df['Survived']==0].groupby('Survived').count()['PassengerId'])"
   ]
  },
  {
   "cell_type": "code",
   "execution_count": 130,
   "id": "d62f8c12",
   "metadata": {},
   "outputs": [
    {
     "data": {
      "text/plain": [
       "0.6161616161616161"
      ]
     },
     "execution_count": 130,
     "metadata": {},
     "output_type": "execute_result"
    }
   ],
   "source": [
    "survived_0 / len(df)"
   ]
  },
  {
   "cell_type": "code",
   "execution_count": 73,
   "id": "3a7dfaf5",
   "metadata": {},
   "outputs": [],
   "source": [
    "X = df.drop(columns=['PassengerId','Survived'])\n",
    "y = df['Survived']"
   ]
  },
  {
   "cell_type": "code",
   "execution_count": 102,
   "id": "69b82565",
   "metadata": {},
   "outputs": [],
   "source": [
    "from sklearn.model_selection import train_test_split\n",
    "\n",
    "X_train,X_test,y_train,y_test = train_test_split(X,y, test_size=0.25,random_state=101)"
   ]
  },
  {
   "cell_type": "code",
   "execution_count": 103,
   "id": "df586057",
   "metadata": {},
   "outputs": [],
   "source": [
    "from sklearn.preprocessing import MinMaxScaler\n",
    "\n",
    "scaler = MinMaxScaler()"
   ]
  },
  {
   "cell_type": "code",
   "execution_count": 104,
   "id": "a33f9c34",
   "metadata": {},
   "outputs": [],
   "source": [
    "X_train = scaler.fit_transform(X_train)\n",
    "\n",
    "X_test = scaler.transform(X_test)"
   ]
  },
  {
   "cell_type": "code",
   "execution_count": 105,
   "id": "eeac7c63",
   "metadata": {},
   "outputs": [
    {
     "data": {
      "text/plain": [
       "(668, 8)"
      ]
     },
     "execution_count": 105,
     "metadata": {},
     "output_type": "execute_result"
    }
   ],
   "source": [
    "X_train.shape"
   ]
  },
  {
   "cell_type": "code",
   "execution_count": 106,
   "id": "99a167a9",
   "metadata": {},
   "outputs": [
    {
     "data": {
      "text/plain": [
       "(223, 8)"
      ]
     },
     "execution_count": 106,
     "metadata": {},
     "output_type": "execute_result"
    }
   ],
   "source": [
    "X_test.shape"
   ]
  },
  {
   "cell_type": "code",
   "execution_count": 131,
   "id": "e69c4cfb",
   "metadata": {},
   "outputs": [],
   "source": [
    "from tensorflow.keras.models import Sequential\n",
    "from tensorflow.keras.layers import Dense, Dropout\n",
    "\n",
    "model = Sequential()\n",
    "\n",
    "model.add(Dense(units=64,activation='relu'))\n",
    "model.add(Dropout(0.2))\n",
    "\n",
    "model.add(Dense(units=32,activation='relu'))\n",
    "model.add(Dropout(0.2))\n",
    "\n",
    "model.add(Dense(units=16,activation='relu'))\n",
    "model.add(Dropout(0.2))\n",
    "\n",
    "model.add(Dense(1,activation='sigmoid'))\n",
    "\n",
    "model.compile(loss='binary_crossentropy', optimizer='adam')\n"
   ]
  },
  {
   "cell_type": "code",
   "execution_count": 132,
   "id": "e05d46f8",
   "metadata": {},
   "outputs": [],
   "source": [
    "from tensorflow.keras.callbacks import EarlyStopping\n",
    "\n",
    "early_stop = EarlyStopping(monitor='val_loss',mode='min',verbose=1,patience=25)"
   ]
  },
  {
   "cell_type": "code",
   "execution_count": 133,
   "id": "398148ee",
   "metadata": {},
   "outputs": [
    {
     "name": "stdout",
     "output_type": "stream",
     "text": [
      "Epoch 1/600\n"
     ]
    },
    {
     "name": "stderr",
     "output_type": "stream",
     "text": [
      "2023-08-30 17:54:11.580650: I tensorflow/core/grappler/optimizers/custom_graph_optimizer_registry.cc:113] Plugin optimizer for device_type GPU is enabled.\n"
     ]
    },
    {
     "name": "stdout",
     "output_type": "stream",
     "text": [
      "21/21 [==============================] - 1s 25ms/step - loss: 0.6514 - val_loss: 0.6369\n",
      "Epoch 2/600\n",
      " 9/21 [===========>..................] - ETA: 0s - loss: 0.6016"
     ]
    },
    {
     "name": "stderr",
     "output_type": "stream",
     "text": [
      "2023-08-30 17:54:12.336933: I tensorflow/core/grappler/optimizers/custom_graph_optimizer_registry.cc:113] Plugin optimizer for device_type GPU is enabled.\n"
     ]
    },
    {
     "name": "stdout",
     "output_type": "stream",
     "text": [
      "21/21 [==============================] - 0s 9ms/step - loss: 0.6018 - val_loss: 0.6088\n",
      "Epoch 3/600\n",
      "21/21 [==============================] - 0s 7ms/step - loss: 0.5599 - val_loss: 0.5742\n",
      "Epoch 4/600\n",
      "21/21 [==============================] - 0s 8ms/step - loss: 0.5213 - val_loss: 0.5511\n",
      "Epoch 5/600\n",
      "21/21 [==============================] - 0s 9ms/step - loss: 0.5089 - val_loss: 0.5361\n",
      "Epoch 6/600\n",
      "21/21 [==============================] - 0s 8ms/step - loss: 0.4889 - val_loss: 0.5280\n",
      "Epoch 7/600\n",
      "21/21 [==============================] - 0s 8ms/step - loss: 0.4839 - val_loss: 0.5167\n",
      "Epoch 8/600\n",
      "21/21 [==============================] - 0s 7ms/step - loss: 0.4584 - val_loss: 0.5077\n",
      "Epoch 9/600\n",
      "21/21 [==============================] - 0s 8ms/step - loss: 0.4587 - val_loss: 0.5123\n",
      "Epoch 10/600\n",
      "21/21 [==============================] - 0s 8ms/step - loss: 0.4681 - val_loss: 0.4912\n",
      "Epoch 11/600\n",
      "21/21 [==============================] - 0s 8ms/step - loss: 0.4552 - val_loss: 0.5015\n",
      "Epoch 12/600\n",
      "21/21 [==============================] - 0s 9ms/step - loss: 0.4538 - val_loss: 0.4811\n",
      "Epoch 13/600\n",
      "21/21 [==============================] - 0s 8ms/step - loss: 0.4431 - val_loss: 0.4902\n",
      "Epoch 14/600\n",
      "21/21 [==============================] - 0s 8ms/step - loss: 0.4372 - val_loss: 0.4872\n",
      "Epoch 15/600\n",
      "21/21 [==============================] - 0s 9ms/step - loss: 0.4357 - val_loss: 0.4777\n",
      "Epoch 16/600\n",
      "21/21 [==============================] - 0s 8ms/step - loss: 0.4320 - val_loss: 0.4760\n",
      "Epoch 17/600\n",
      "21/21 [==============================] - 0s 8ms/step - loss: 0.4273 - val_loss: 0.4787\n",
      "Epoch 18/600\n",
      "21/21 [==============================] - 0s 8ms/step - loss: 0.4240 - val_loss: 0.4755\n",
      "Epoch 19/600\n",
      "21/21 [==============================] - 0s 8ms/step - loss: 0.4155 - val_loss: 0.4768\n",
      "Epoch 20/600\n",
      "21/21 [==============================] - 0s 8ms/step - loss: 0.4258 - val_loss: 0.4748\n",
      "Epoch 21/600\n",
      "21/21 [==============================] - 0s 8ms/step - loss: 0.4169 - val_loss: 0.4688\n",
      "Epoch 22/600\n",
      "21/21 [==============================] - 0s 8ms/step - loss: 0.4232 - val_loss: 0.4692\n",
      "Epoch 23/600\n",
      "21/21 [==============================] - 0s 9ms/step - loss: 0.4096 - val_loss: 0.4755\n",
      "Epoch 24/600\n",
      "21/21 [==============================] - 0s 9ms/step - loss: 0.4156 - val_loss: 0.4800\n",
      "Epoch 25/600\n",
      "21/21 [==============================] - 0s 9ms/step - loss: 0.4075 - val_loss: 0.4611\n",
      "Epoch 26/600\n",
      "21/21 [==============================] - 0s 8ms/step - loss: 0.4255 - val_loss: 0.4927\n",
      "Epoch 27/600\n",
      "21/21 [==============================] - 0s 7ms/step - loss: 0.4191 - val_loss: 0.4654\n",
      "Epoch 28/600\n",
      "21/21 [==============================] - 0s 7ms/step - loss: 0.4210 - val_loss: 0.4672\n",
      "Epoch 29/600\n",
      "21/21 [==============================] - 0s 7ms/step - loss: 0.3989 - val_loss: 0.4773\n",
      "Epoch 30/600\n",
      "21/21 [==============================] - 0s 8ms/step - loss: 0.4133 - val_loss: 0.4621\n",
      "Epoch 31/600\n",
      "21/21 [==============================] - 0s 8ms/step - loss: 0.4100 - val_loss: 0.4654\n",
      "Epoch 32/600\n",
      "21/21 [==============================] - 0s 7ms/step - loss: 0.4075 - val_loss: 0.4657\n",
      "Epoch 33/600\n",
      "21/21 [==============================] - 0s 7ms/step - loss: 0.4022 - val_loss: 0.4669\n",
      "Epoch 34/600\n",
      "21/21 [==============================] - 0s 8ms/step - loss: 0.4062 - val_loss: 0.4624\n",
      "Epoch 35/600\n",
      "21/21 [==============================] - 0s 7ms/step - loss: 0.4089 - val_loss: 0.4711\n",
      "Epoch 36/600\n",
      "21/21 [==============================] - 0s 8ms/step - loss: 0.4071 - val_loss: 0.4698\n",
      "Epoch 37/600\n",
      "21/21 [==============================] - 0s 7ms/step - loss: 0.4050 - val_loss: 0.4746\n",
      "Epoch 38/600\n",
      "21/21 [==============================] - 0s 7ms/step - loss: 0.4047 - val_loss: 0.4616\n",
      "Epoch 39/600\n",
      "21/21 [==============================] - 0s 8ms/step - loss: 0.4012 - val_loss: 0.4632\n",
      "Epoch 40/600\n",
      "21/21 [==============================] - 0s 9ms/step - loss: 0.4023 - val_loss: 0.4588\n",
      "Epoch 41/600\n",
      "21/21 [==============================] - 0s 8ms/step - loss: 0.3984 - val_loss: 0.4640\n",
      "Epoch 42/600\n",
      "21/21 [==============================] - 0s 7ms/step - loss: 0.4022 - val_loss: 0.4761\n",
      "Epoch 43/600\n",
      "21/21 [==============================] - 0s 7ms/step - loss: 0.4089 - val_loss: 0.4558\n",
      "Epoch 44/600\n",
      "21/21 [==============================] - 0s 8ms/step - loss: 0.4003 - val_loss: 0.4680\n",
      "Epoch 45/600\n",
      "21/21 [==============================] - 0s 8ms/step - loss: 0.4040 - val_loss: 0.4647\n",
      "Epoch 46/600\n",
      "21/21 [==============================] - 0s 8ms/step - loss: 0.3992 - val_loss: 0.4555\n",
      "Epoch 47/600\n",
      "21/21 [==============================] - 0s 9ms/step - loss: 0.3948 - val_loss: 0.4649\n",
      "Epoch 48/600\n",
      "21/21 [==============================] - 0s 8ms/step - loss: 0.3975 - val_loss: 0.4584\n",
      "Epoch 49/600\n",
      "21/21 [==============================] - 0s 9ms/step - loss: 0.4011 - val_loss: 0.4695\n",
      "Epoch 50/600\n",
      "21/21 [==============================] - 0s 8ms/step - loss: 0.3972 - val_loss: 0.4561\n",
      "Epoch 51/600\n",
      "21/21 [==============================] - 0s 8ms/step - loss: 0.4046 - val_loss: 0.4579\n",
      "Epoch 52/600\n",
      "21/21 [==============================] - 0s 7ms/step - loss: 0.3893 - val_loss: 0.4503\n",
      "Epoch 53/600\n",
      "21/21 [==============================] - 0s 7ms/step - loss: 0.3892 - val_loss: 0.4575\n",
      "Epoch 54/600\n",
      "21/21 [==============================] - 0s 7ms/step - loss: 0.3942 - val_loss: 0.4601\n",
      "Epoch 55/600\n",
      "21/21 [==============================] - 0s 7ms/step - loss: 0.3872 - val_loss: 0.4500\n",
      "Epoch 56/600\n",
      "21/21 [==============================] - 0s 7ms/step - loss: 0.3988 - val_loss: 0.4602\n",
      "Epoch 57/600\n",
      "21/21 [==============================] - 0s 7ms/step - loss: 0.3874 - val_loss: 0.4505\n",
      "Epoch 58/600\n",
      "21/21 [==============================] - 0s 8ms/step - loss: 0.3935 - val_loss: 0.4544\n",
      "Epoch 59/600\n",
      "21/21 [==============================] - 0s 7ms/step - loss: 0.3842 - val_loss: 0.4574\n",
      "Epoch 60/600\n",
      "21/21 [==============================] - 0s 7ms/step - loss: 0.3872 - val_loss: 0.4564\n",
      "Epoch 61/600\n",
      "21/21 [==============================] - 0s 7ms/step - loss: 0.3985 - val_loss: 0.4469\n",
      "Epoch 62/600\n",
      "21/21 [==============================] - 0s 7ms/step - loss: 0.3923 - val_loss: 0.4752\n",
      "Epoch 63/600\n",
      "21/21 [==============================] - 0s 7ms/step - loss: 0.3882 - val_loss: 0.4492\n",
      "Epoch 64/600\n",
      "21/21 [==============================] - 0s 8ms/step - loss: 0.3871 - val_loss: 0.4496\n",
      "Epoch 65/600\n",
      "21/21 [==============================] - 0s 7ms/step - loss: 0.3835 - val_loss: 0.4527\n",
      "Epoch 66/600\n",
      "21/21 [==============================] - 0s 8ms/step - loss: 0.3830 - val_loss: 0.4555\n",
      "Epoch 67/600\n",
      "21/21 [==============================] - 0s 8ms/step - loss: 0.3896 - val_loss: 0.4504\n",
      "Epoch 68/600\n",
      "21/21 [==============================] - 0s 7ms/step - loss: 0.3864 - val_loss: 0.4528\n",
      "Epoch 69/600\n",
      "21/21 [==============================] - 0s 7ms/step - loss: 0.3877 - val_loss: 0.4470\n",
      "Epoch 70/600\n",
      "21/21 [==============================] - 0s 8ms/step - loss: 0.3842 - val_loss: 0.4466\n",
      "Epoch 71/600\n",
      "21/21 [==============================] - 0s 8ms/step - loss: 0.3844 - val_loss: 0.4482\n",
      "Epoch 72/600\n",
      "21/21 [==============================] - 0s 7ms/step - loss: 0.3840 - val_loss: 0.4475\n",
      "Epoch 73/600\n",
      "21/21 [==============================] - 0s 8ms/step - loss: 0.3837 - val_loss: 0.4488\n",
      "Epoch 74/600\n",
      "21/21 [==============================] - 0s 8ms/step - loss: 0.3815 - val_loss: 0.4520\n",
      "Epoch 75/600\n",
      "21/21 [==============================] - 0s 8ms/step - loss: 0.3857 - val_loss: 0.4465\n",
      "Epoch 76/600\n",
      "21/21 [==============================] - 0s 8ms/step - loss: 0.3918 - val_loss: 0.4446\n",
      "Epoch 77/600\n",
      "21/21 [==============================] - 0s 8ms/step - loss: 0.3838 - val_loss: 0.4448\n",
      "Epoch 78/600\n",
      "21/21 [==============================] - 0s 8ms/step - loss: 0.3826 - val_loss: 0.4492\n",
      "Epoch 79/600\n",
      "21/21 [==============================] - 0s 8ms/step - loss: 0.3810 - val_loss: 0.4467\n",
      "Epoch 80/600\n",
      "21/21 [==============================] - 0s 7ms/step - loss: 0.3829 - val_loss: 0.4466\n",
      "Epoch 81/600\n",
      "21/21 [==============================] - 0s 7ms/step - loss: 0.3843 - val_loss: 0.4491\n",
      "Epoch 82/600\n",
      "21/21 [==============================] - 0s 7ms/step - loss: 0.3758 - val_loss: 0.4461\n",
      "Epoch 83/600\n",
      "21/21 [==============================] - 0s 7ms/step - loss: 0.3810 - val_loss: 0.4487\n",
      "Epoch 84/600\n"
     ]
    },
    {
     "name": "stdout",
     "output_type": "stream",
     "text": [
      "21/21 [==============================] - 0s 7ms/step - loss: 0.3702 - val_loss: 0.4479\n",
      "Epoch 85/600\n",
      "21/21 [==============================] - 0s 7ms/step - loss: 0.3844 - val_loss: 0.4516\n",
      "Epoch 86/600\n",
      "21/21 [==============================] - 0s 7ms/step - loss: 0.3818 - val_loss: 0.4568\n",
      "Epoch 87/600\n",
      "21/21 [==============================] - 0s 7ms/step - loss: 0.3860 - val_loss: 0.4489\n",
      "Epoch 88/600\n",
      "21/21 [==============================] - 0s 7ms/step - loss: 0.3695 - val_loss: 0.4535\n",
      "Epoch 89/600\n",
      "21/21 [==============================] - 0s 7ms/step - loss: 0.3807 - val_loss: 0.4509\n",
      "Epoch 90/600\n",
      "21/21 [==============================] - 0s 7ms/step - loss: 0.3747 - val_loss: 0.4486\n",
      "Epoch 91/600\n",
      "21/21 [==============================] - 0s 8ms/step - loss: 0.3885 - val_loss: 0.4509\n",
      "Epoch 92/600\n",
      "21/21 [==============================] - 0s 7ms/step - loss: 0.3712 - val_loss: 0.4479\n",
      "Epoch 93/600\n",
      "21/21 [==============================] - 0s 7ms/step - loss: 0.3799 - val_loss: 0.4462\n",
      "Epoch 94/600\n",
      "21/21 [==============================] - 0s 7ms/step - loss: 0.3772 - val_loss: 0.4506\n",
      "Epoch 95/600\n",
      "21/21 [==============================] - 0s 7ms/step - loss: 0.3790 - val_loss: 0.4450\n",
      "Epoch 96/600\n",
      "21/21 [==============================] - 0s 7ms/step - loss: 0.3859 - val_loss: 0.4445\n",
      "Epoch 97/600\n",
      "21/21 [==============================] - 0s 7ms/step - loss: 0.3843 - val_loss: 0.4462\n",
      "Epoch 98/600\n",
      "21/21 [==============================] - 0s 7ms/step - loss: 0.3726 - val_loss: 0.4479\n",
      "Epoch 99/600\n",
      "21/21 [==============================] - 0s 7ms/step - loss: 0.3725 - val_loss: 0.4478\n",
      "Epoch 100/600\n",
      "21/21 [==============================] - 0s 8ms/step - loss: 0.3747 - val_loss: 0.4491\n",
      "Epoch 101/600\n",
      "21/21 [==============================] - 0s 8ms/step - loss: 0.3825 - val_loss: 0.4593\n",
      "Epoch 102/600\n",
      "21/21 [==============================] - 0s 7ms/step - loss: 0.3820 - val_loss: 0.4437\n",
      "Epoch 103/600\n",
      "21/21 [==============================] - 0s 7ms/step - loss: 0.3736 - val_loss: 0.4546\n",
      "Epoch 104/600\n",
      "21/21 [==============================] - 0s 7ms/step - loss: 0.3713 - val_loss: 0.4465\n",
      "Epoch 105/600\n",
      "21/21 [==============================] - 0s 7ms/step - loss: 0.3788 - val_loss: 0.4568\n",
      "Epoch 106/600\n",
      "21/21 [==============================] - 0s 7ms/step - loss: 0.3782 - val_loss: 0.4498\n",
      "Epoch 107/600\n",
      "21/21 [==============================] - 0s 8ms/step - loss: 0.3729 - val_loss: 0.4462\n",
      "Epoch 108/600\n",
      "21/21 [==============================] - 0s 7ms/step - loss: 0.3532 - val_loss: 0.4548\n",
      "Epoch 109/600\n",
      "21/21 [==============================] - 0s 7ms/step - loss: 0.3716 - val_loss: 0.4425\n",
      "Epoch 110/600\n",
      "21/21 [==============================] - 0s 8ms/step - loss: 0.3725 - val_loss: 0.4455\n",
      "Epoch 111/600\n",
      "21/21 [==============================] - 0s 8ms/step - loss: 0.3801 - val_loss: 0.4554\n",
      "Epoch 112/600\n",
      "21/21 [==============================] - 0s 8ms/step - loss: 0.3675 - val_loss: 0.4400\n",
      "Epoch 113/600\n",
      "21/21 [==============================] - 0s 8ms/step - loss: 0.3756 - val_loss: 0.4567\n",
      "Epoch 114/600\n",
      "21/21 [==============================] - 0s 8ms/step - loss: 0.3762 - val_loss: 0.4490\n",
      "Epoch 115/600\n",
      "21/21 [==============================] - 0s 8ms/step - loss: 0.3797 - val_loss: 0.4434\n",
      "Epoch 116/600\n",
      "21/21 [==============================] - 0s 8ms/step - loss: 0.3752 - val_loss: 0.4426\n",
      "Epoch 117/600\n",
      "21/21 [==============================] - 0s 8ms/step - loss: 0.3730 - val_loss: 0.4420\n",
      "Epoch 118/600\n",
      "21/21 [==============================] - 0s 7ms/step - loss: 0.3698 - val_loss: 0.4422\n",
      "Epoch 119/600\n",
      "21/21 [==============================] - 0s 8ms/step - loss: 0.3689 - val_loss: 0.4525\n",
      "Epoch 120/600\n",
      "21/21 [==============================] - 0s 7ms/step - loss: 0.3766 - val_loss: 0.4474\n",
      "Epoch 121/600\n",
      "21/21 [==============================] - 0s 7ms/step - loss: 0.3768 - val_loss: 0.4439\n",
      "Epoch 122/600\n",
      "21/21 [==============================] - 0s 7ms/step - loss: 0.3690 - val_loss: 0.4511\n",
      "Epoch 123/600\n",
      "21/21 [==============================] - 0s 8ms/step - loss: 0.3685 - val_loss: 0.4422\n",
      "Epoch 124/600\n",
      "21/21 [==============================] - 0s 8ms/step - loss: 0.3678 - val_loss: 0.4515\n",
      "Epoch 125/600\n",
      "21/21 [==============================] - 0s 8ms/step - loss: 0.3699 - val_loss: 0.4375\n",
      "Epoch 126/600\n",
      "21/21 [==============================] - 0s 8ms/step - loss: 0.3722 - val_loss: 0.4525\n",
      "Epoch 127/600\n",
      "21/21 [==============================] - 0s 7ms/step - loss: 0.3725 - val_loss: 0.4494\n",
      "Epoch 128/600\n",
      "21/21 [==============================] - 0s 7ms/step - loss: 0.3815 - val_loss: 0.4421\n",
      "Epoch 129/600\n",
      "21/21 [==============================] - 0s 7ms/step - loss: 0.3685 - val_loss: 0.4466\n",
      "Epoch 130/600\n",
      "21/21 [==============================] - 0s 7ms/step - loss: 0.3622 - val_loss: 0.4430\n",
      "Epoch 131/600\n",
      "21/21 [==============================] - 0s 7ms/step - loss: 0.3748 - val_loss: 0.4445\n",
      "Epoch 132/600\n",
      "21/21 [==============================] - 0s 7ms/step - loss: 0.3668 - val_loss: 0.4485\n",
      "Epoch 133/600\n",
      "21/21 [==============================] - 0s 7ms/step - loss: 0.3609 - val_loss: 0.4495\n",
      "Epoch 134/600\n",
      "21/21 [==============================] - 0s 7ms/step - loss: 0.3619 - val_loss: 0.4456\n",
      "Epoch 135/600\n",
      "21/21 [==============================] - 0s 8ms/step - loss: 0.3611 - val_loss: 0.4499\n",
      "Epoch 136/600\n",
      "21/21 [==============================] - 0s 8ms/step - loss: 0.3672 - val_loss: 0.4518\n",
      "Epoch 137/600\n",
      "21/21 [==============================] - 0s 11ms/step - loss: 0.3710 - val_loss: 0.4447\n",
      "Epoch 138/600\n",
      "21/21 [==============================] - 0s 9ms/step - loss: 0.3613 - val_loss: 0.4535\n",
      "Epoch 139/600\n",
      "21/21 [==============================] - 0s 8ms/step - loss: 0.3629 - val_loss: 0.4452\n",
      "Epoch 140/600\n",
      "21/21 [==============================] - 0s 7ms/step - loss: 0.3624 - val_loss: 0.4537\n",
      "Epoch 141/600\n",
      "21/21 [==============================] - 0s 7ms/step - loss: 0.3543 - val_loss: 0.4496\n",
      "Epoch 142/600\n",
      "21/21 [==============================] - 0s 8ms/step - loss: 0.3550 - val_loss: 0.4493\n",
      "Epoch 143/600\n",
      "21/21 [==============================] - 0s 7ms/step - loss: 0.3645 - val_loss: 0.4519\n",
      "Epoch 144/600\n",
      "21/21 [==============================] - 0s 7ms/step - loss: 0.3538 - val_loss: 0.4466\n",
      "Epoch 145/600\n",
      "21/21 [==============================] - 0s 8ms/step - loss: 0.3674 - val_loss: 0.4483\n",
      "Epoch 146/600\n",
      "21/21 [==============================] - 0s 7ms/step - loss: 0.3653 - val_loss: 0.4478\n",
      "Epoch 147/600\n",
      "21/21 [==============================] - 0s 7ms/step - loss: 0.3719 - val_loss: 0.4452\n",
      "Epoch 148/600\n",
      "21/21 [==============================] - 0s 8ms/step - loss: 0.3708 - val_loss: 0.4405\n",
      "Epoch 149/600\n",
      "21/21 [==============================] - 0s 9ms/step - loss: 0.3638 - val_loss: 0.4537\n",
      "Epoch 150/600\n",
      "21/21 [==============================] - 0s 7ms/step - loss: 0.3646 - val_loss: 0.4453\n",
      "Epoch 150: early stopping\n"
     ]
    },
    {
     "data": {
      "text/plain": [
       "<keras.callbacks.History at 0x2cf442440>"
      ]
     },
     "execution_count": 133,
     "metadata": {},
     "output_type": "execute_result"
    }
   ],
   "source": [
    "model.fit(x=X_train,y=y_train,epochs=600,validation_data=(X_test,y_test),\n",
    "         callbacks=[early_stop])"
   ]
  },
  {
   "cell_type": "code",
   "execution_count": 134,
   "id": "87f5c0c2",
   "metadata": {},
   "outputs": [],
   "source": [
    "# early_stop = EarlyStopping(monitor='val_loss', patience=10, restore_best_weights=True)\n",
    "\n",
    "# ... Your model and data preparation code ...\n",
    "\n",
    "# Fit the model with the EarlyStopping callback\n",
    "# model.fit(x=X_train, y=y_train, epochs=600, validation_data=(X_test, y_test), callbacks=[early_stop])"
   ]
  },
  {
   "cell_type": "code",
   "execution_count": 135,
   "id": "213a1f4a",
   "metadata": {},
   "outputs": [],
   "source": [
    "loss_df = pd.DataFrame(model.history.history)"
   ]
  },
  {
   "cell_type": "code",
   "execution_count": 136,
   "id": "07566267",
   "metadata": {},
   "outputs": [
    {
     "data": {
      "text/plain": [
       "<Axes: >"
      ]
     },
     "execution_count": 136,
     "metadata": {},
     "output_type": "execute_result"
    },
    {
     "data": {
      "image/png": "[encoded data removed]",
      "text/plain": [
       "<Figure size 640x480 with 1 Axes>"
      ]
     },
     "metadata": {},
     "output_type": "display_data"
    }
   ],
   "source": [
    "loss_df.plot()"
   ]
  },
  {
   "cell_type": "code",
   "execution_count": 137,
   "id": "d80ca782",
   "metadata": {},
   "outputs": [
    {
     "name": "stdout",
     "output_type": "stream",
     "text": [
      "7/7 [==============================] - 0s 6ms/step\n"
     ]
    },
    {
     "name": "stderr",
     "output_type": "stream",
     "text": [
      "2023-08-30 17:54:47.271152: I tensorflow/core/grappler/optimizers/custom_graph_optimizer_registry.cc:113] Plugin optimizer for device_type GPU is enabled.\n"
     ]
    }
   ],
   "source": [
    "predictions = model.predict(X_test)\n",
    "\n",
    "predictions = np.round(predictions).astype(int)"
   ]
  },
  {
   "cell_type": "code",
   "execution_count": 138,
   "id": "6f7263a7",
   "metadata": {},
   "outputs": [
    {
     "name": "stdout",
     "output_type": "stream",
     "text": [
      "              precision    recall  f1-score   support\n",
      "\n",
      "           0       0.77      0.94      0.85       127\n",
      "           1       0.90      0.64      0.74        96\n",
      "\n",
      "    accuracy                           0.81       223\n",
      "   macro avg       0.84      0.79      0.80       223\n",
      "weighted avg       0.83      0.81      0.80       223\n",
      "\n",
      "[[120   7]\n",
      " [ 35  61]]\n"
     ]
    }
   ],
   "source": [
    "from sklearn.metrics import classification_report,confusion_matrix\n",
    "print(classification_report(y_test,predictions))\n",
    "print(confusion_matrix(y_test,predictions))"
   ]
  },
  {
   "cell_type": "code",
   "execution_count": null,
   "id": "b1a33bcb",
   "metadata": {},
   "outputs": [],
   "source": [
    "df_test = pd.read_csv('/Users/andrew/Downloads/titanic/test.csv')"
   ]
  },
  {
   "cell_type": "code",
   "execution_count": null,
   "id": "e7983dfe",
   "metadata": {},
   "outputs": [],
   "source": [
    "df_test.head(2)\n",
    "\n",
    "df_test['Sex'] = df_test['Sex'].map({'male':0,'female':1})\n",
    "df_test['Embarked'] = df_test['Embarked'].map({'S':0,'C':1,'Q':2})"
   ]
  },
  {
   "cell_type": "code",
   "execution_count": null,
   "id": "41b6d988",
   "metadata": {},
   "outputs": [],
   "source": [
    "df_test.head(2)"
   ]
  },
  {
   "cell_type": "code",
   "execution_count": null,
   "id": "94d4492c",
   "metadata": {},
   "outputs": [],
   "source": [
    "df_pred = df_test.drop(columns=['Name','Ticket','Cabin','PassengerId'])"
   ]
  },
  {
   "cell_type": "code",
   "execution_count": null,
   "id": "c5dc149c",
   "metadata": {},
   "outputs": [],
   "source": [
    "df_pred.head(2)"
   ]
  },
  {
   "cell_type": "code",
   "execution_count": null,
   "id": "81af93a9",
   "metadata": {},
   "outputs": [],
   "source": [
    "x_pred = scaler.transform(df_pred)"
   ]
  },
  {
   "cell_type": "code",
   "execution_count": null,
   "id": "211f24b6",
   "metadata": {},
   "outputs": [],
   "source": [
    "predictions = model.predict(x_pred)\n",
    "\n",
    "predictions = np.round(predictions).astype(int)"
   ]
  },
  {
   "cell_type": "code",
   "execution_count": null,
   "id": "8f2b5578",
   "metadata": {},
   "outputs": [],
   "source": [
    "pred_df = pd.DataFrame(predictions,columns=['Survived'])"
   ]
  },
  {
   "cell_type": "code",
   "execution_count": null,
   "id": "1fda7700",
   "metadata": {},
   "outputs": [],
   "source": [
    "pred_df.info()"
   ]
  },
  {
   "cell_type": "code",
   "execution_count": null,
   "id": "f365153c",
   "metadata": {},
   "outputs": [],
   "source": [
    "pred_df['PassengerId'] = df_test['PassengerId']"
   ]
  },
  {
   "cell_type": "code",
   "execution_count": null,
   "id": "77025e1f",
   "metadata": {},
   "outputs": [],
   "source": [
    "pred_df.info()"
   ]
  },
  {
   "cell_type": "code",
   "execution_count": null,
   "id": "a0578198",
   "metadata": {},
   "outputs": [],
   "source": [
    "pred_df.to_excel('/Users/andrew/Downloads/titanic/preds_df.xlsx')"
   ]
  }
 ],
 "metadata": {
  "kernelspec": {
   "display_name": "Python 3.10 (tensorflow)",
   "language": "python",
   "name": "tensorflow"
  },
  "language_info": {
   "codemirror_mode": {
    "name": "ipython",
    "version": 3
   },
   "file_extension": ".py",
   "mimetype": "text/x-python",
   "name": "python",
   "nbconvert_exporter": "python",
   "pygments_lexer": "ipython3",
   "version": "3.10.12"
  }
 },
 "nbformat": 4,
 "nbformat_minor": 5
}
